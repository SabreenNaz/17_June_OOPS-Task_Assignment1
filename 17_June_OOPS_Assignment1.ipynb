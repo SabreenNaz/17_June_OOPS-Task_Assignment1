{
 "cells": [
  {
   "cell_type": "markdown",
   "id": "847adbb7-db76-4977-981e-bb4bb638709c",
   "metadata": {},
   "source": [
    "Q1. Explain Class and Object with respect to Object-Oriented Programming. Give a suitable example."
   ]
  },
  {
   "cell_type": "markdown",
   "id": "c058c758-1320-4370-9052-4ad53ac56302",
   "metadata": {},
   "source": [
    "#Answer\n",
    "\n",
    "In the context of Object-Oriented Programming (OOP), a class and an object are fundamental concepts used to model and structure code.\n",
    "\n",
    "a) Class:\n",
    "    A class is a blueprint or a template for creating objects. It defines a set of attributes (data members) and methods (functions) that represent the characteristics and behaviors of the objects that belong to that class. In short class is act as a blueprint that defines the structure and behavior of something.  For the \"Accountant\" example, the class will define attributes such as the Accountant's qualification, agelimit, experience, and methods like records(),and  reports()"
   ]
  },
  {
   "cell_type": "code",
   "execution_count": 15,
   "id": "3e258056-2ae8-4d1e-ad3b-0c46b93b6e97",
   "metadata": {},
   "outputs": [],
   "source": [
    "class Accountant:\n",
    "    def __init__(self, qualification, agelimit, experience):\n",
    "        self.qualification = qualification\n",
    "        self.agelimit = agelimit\n",
    "        self.experience = experience\n",
    "        \n",
    "    def records(self):\n",
    "        print(\"an Accountant records each and every financial transaction of business\")\n",
    "        \n",
    "    def reports(self):\n",
    "        print(\"an Accountant prepares the reports inthe form of financial statements\")"
   ]
  },
  {
   "cell_type": "markdown",
   "id": "cd81b4b7-3953-466a-b5ba-97d77aadd5d7",
   "metadata": {},
   "source": [
    "b) Object:\n",
    "   An object is an instance of a class, created using the class blueprint. It represents a specific realization of the class, and each object has its own set of attributes and can perform actions through its methods.It represents an individual Accountant who performs a set of tasks with its unique characteristics based on the class definition. an Accountant object has its own set of attributes (qualification, agelimit, experience) and can perform actions through its methods (records(), reports()). \n",
    "   "
   ]
  },
  {
   "cell_type": "code",
   "execution_count": 16,
   "id": "838094b6-b3a8-42e1-a8d0-69f20751a472",
   "metadata": {},
   "outputs": [
    {
     "name": "stdout",
     "output_type": "stream",
     "text": [
      "an Accountant records each and every financial transaction of business\n",
      "an Accountant prepares the reports inthe form of financial statements\n"
     ]
    }
   ],
   "source": [
    "## Lets create an object of the Accountant class:_\n",
    "Kouser = Accountant(\"B.com\", 30, 4)\n",
    "Kouser.qualification\n",
    "Kouser.agelimit\n",
    "Kouser.experience\n",
    "Kouser.records()\n",
    "Kouser.reports()"
   ]
  },
  {
   "cell_type": "markdown",
   "id": "d768ab2e-88b4-43b3-a1dd-6c72edbb4923",
   "metadata": {},
   "source": [
    "                      -------------------------------------------------------------------"
   ]
  },
  {
   "cell_type": "markdown",
   "id": "491180f2-5135-481c-9aa5-c7f7f6e92a5f",
   "metadata": {},
   "source": [
    "Q2. Name the four pillars of OOPs."
   ]
  },
  {
   "cell_type": "markdown",
   "id": "eb92aa81-35bd-49db-b8ec-918e1b89ca28",
   "metadata": {},
   "source": [
    "##### Answer\n",
    "The four pillars of Object-Oriented Programming (OOP) are:\n",
    "\n",
    "1) Encapsulation:\n",
    "   Encapsulation is the concept of bundling data (attributes) and the methods (functions) that operate on that data within a single unit called a class. It allows data hiding and protection, as the internal workings of the class are hidden from the outside world. Only the methods provided by the class can access and modify the data, ensuring data integrity and preventing unauthorized access.\n",
    "\n",
    "2) Abstraction:\n",
    "   Abstraction is the process of simplifying complex systems by representing the relevant characteristics and behaviors of an object while hiding unnecessary details. In OOP, classes provide abstractions of real-world entities, and objects are instances of these abstractions. Abstraction allows programmers to focus on what an object does rather than how it does it, making code more manageable and reusable.\n",
    "\n",
    "3) Inheritance:\n",
    "   Inheritance is a mechanism that allows a class (called the subclass or derived class) to inherit the properties and behaviors of another class (called the superclass or base class). The subclass can extend or modify the attributes and methods inherited from the superclass. This enables code reuse, promotes a hierarchical structure, and facilitates the creation of specialized classes from more general ones.\n",
    "\n",
    "5) Polymorphism:\n",
    "   Polymorphism allows objects of different classes to be treated as objects of a common superclass. It enables a single interface to represent multiple types of objects, and the behavior of a method can vary depending on the type of object it is called on. Polymorphism allows code to be more flexible and adaptable, supporting a wider range of object types and interactions.\n"
   ]
  },
  {
   "cell_type": "markdown",
   "id": "aa23c0ed-6eba-4035-bf32-0082f7377c30",
   "metadata": {},
   "source": [
    "                      -------------------------------------------------------------------"
   ]
  },
  {
   "cell_type": "markdown",
   "id": "a78af9c0-777e-46da-a455-40f8502770b9",
   "metadata": {},
   "source": [
    "Q3. Explain why the __init__() function is used. Give a suitable example."
   ]
  },
  {
   "cell_type": "markdown",
   "id": "c2176150-bbc7-42fe-81b1-aab007bd73c2",
   "metadata": {},
   "source": [
    "#Answer\n",
    "\n",
    "   The init() function is commonly used as an initializer or constructor method . It is a special function that is automatically executed when an object or instance of a class is created. Its primary purpose is to perform any necessary setup or initialization tasks for the object before it is ready for use.\n",
    "\n",
    "for example:____\n"
   ]
  },
  {
   "cell_type": "code",
   "execution_count": 17,
   "id": "5571e678-0d93-4d4a-b970-e446bdcaba18",
   "metadata": {},
   "outputs": [],
   "source": [
    "class mobile:\n",
    "    def __init__(self, name, colour, RAAM, camera):\n",
    "        self.name = name\n",
    "        self.colour = colour\n",
    "        self.RAAM = RAAM\n",
    "        self.camera = camera"
   ]
  },
  {
   "cell_type": "code",
   "execution_count": 19,
   "id": "27ade17c-d843-4020-925b-6319c96cb285",
   "metadata": {},
   "outputs": [],
   "source": [
    "mobile1 = mobile(\"redminote\", 'black', 8, '200mp')"
   ]
  },
  {
   "cell_type": "code",
   "execution_count": 22,
   "id": "95b4f425-e4ff-4c7e-98d5-aec1214d97f7",
   "metadata": {},
   "outputs": [
    {
     "data": {
      "text/plain": [
       "'redminote'"
      ]
     },
     "execution_count": 22,
     "metadata": {},
     "output_type": "execute_result"
    }
   ],
   "source": [
    "mobile1.name"
   ]
  },
  {
   "cell_type": "code",
   "execution_count": 23,
   "id": "03930d84-7def-4567-b8c7-19c0bfad95c8",
   "metadata": {},
   "outputs": [
    {
     "data": {
      "text/plain": [
       "'black'"
      ]
     },
     "execution_count": 23,
     "metadata": {},
     "output_type": "execute_result"
    }
   ],
   "source": [
    "mobile1.colour"
   ]
  },
  {
   "cell_type": "code",
   "execution_count": 24,
   "id": "e9a92a81-0ae2-407f-b73d-b72841db6a2b",
   "metadata": {},
   "outputs": [
    {
     "data": {
      "text/plain": [
       "8"
      ]
     },
     "execution_count": 24,
     "metadata": {},
     "output_type": "execute_result"
    }
   ],
   "source": [
    "mobile1.RAAM"
   ]
  },
  {
   "cell_type": "code",
   "execution_count": 25,
   "id": "ff533c73-eb98-4770-bdb0-4fe308ed1b42",
   "metadata": {},
   "outputs": [
    {
     "data": {
      "text/plain": [
       "'200mp'"
      ]
     },
     "execution_count": 25,
     "metadata": {},
     "output_type": "execute_result"
    }
   ],
   "source": [
    "mobile1.camera"
   ]
  },
  {
   "cell_type": "markdown",
   "id": "94792f42-198d-4c7f-ab79-1454749e9622",
   "metadata": {},
   "source": [
    "here we can observe that after defining an object for mobile class we are automatically able to execute the attributes which are defined in the __init__() instructor "
   ]
  },
  {
   "cell_type": "markdown",
   "id": "ab68aa9b-06e7-48ba-9454-ab662e3c7fc2",
   "metadata": {},
   "source": [
    "                      -------------------------------------------------------------------"
   ]
  },
  {
   "cell_type": "markdown",
   "id": "603d8454-0f91-4c58-9047-9330eaa2c9b0",
   "metadata": {},
   "source": [
    "Q4. Why self is used in OOPs?"
   ]
  },
  {
   "cell_type": "markdown",
   "id": "34d08cc2-efe9-449a-81f5-38d4c27dedc7",
   "metadata": {},
   "source": [
    "#Answer\n",
    "  In Object-Oriented Programming (OOP), self is a convention used to refer to the instance of the class within its methods. It acts as a reference to the object on which a method is being called. The use of self is essential because it allows the instance (object) to access its own attributes and methods, making it possible to manipulate its state and behavior.\n"
   ]
  },
  {
   "cell_type": "markdown",
   "id": "cefbaf43-6ff9-49ad-b189-2a56c6f188e8",
   "metadata": {},
   "source": [
    "                      -------------------------------------------------------------------"
   ]
  },
  {
   "cell_type": "markdown",
   "id": "d83dbde1-120b-428e-9820-73b17987c381",
   "metadata": {},
   "source": [
    "Q5. What is inheritance? Give an example for each type of inheritance."
   ]
  },
  {
   "cell_type": "markdown",
   "id": "a5e2dfbb-e23c-4309-991b-2e969f089d07",
   "metadata": {},
   "source": [
    "#Answer\n",
    "Inheritance is a OOPS concept  that allows a class (called a subclass or derived class)  to inherit properties and behaviors (i.e., attributes and methods) from another class (called a superclass or base class) . The subclass can reuse and extend the functionality of the superclass, promoting code reusability and maintaining a hierarchical relationship among classes."
   ]
  },
  {
   "cell_type": "markdown",
   "id": "55aed04e-1f6c-40a7-a7dc-eda4d1f6479c",
   "metadata": {},
   "source": [
    "There are different types of inheritance in OOP:\n",
    "\n",
    "1) Single Inheritance:\n",
    "   Single inheritance refers to a situation where a subclass inherits from only one superclass. This is the most common type of inheritance. examplea:_"
   ]
  },
  {
   "cell_type": "code",
   "execution_count": 36,
   "id": "26e19a41-545f-43ca-804d-f45185c9f7cc",
   "metadata": {},
   "outputs": [],
   "source": [
    "class birds:## super class\n",
    "    def fly(self):\n",
    "        print(\"birds can fly\")\n",
    "class pigeon(birds):## subclass\n",
    "    def eats(self):\n",
    "        return (\"pigeon eats grains\")"
   ]
  },
  {
   "cell_type": "code",
   "execution_count": 40,
   "id": "5cab7aec-d9f7-41d3-a71a-84ffa22cd25d",
   "metadata": {},
   "outputs": [],
   "source": [
    "Mussu = pigeon()"
   ]
  },
  {
   "cell_type": "code",
   "execution_count": 42,
   "id": "41d4be99-3ab3-4546-a9c8-3175f95c84cb",
   "metadata": {},
   "outputs": [
    {
     "data": {
      "text/plain": [
       "'pigeon eats grains'"
      ]
     },
     "execution_count": 42,
     "metadata": {},
     "output_type": "execute_result"
    }
   ],
   "source": [
    "Mussu.eats()"
   ]
  },
  {
   "cell_type": "code",
   "execution_count": 43,
   "id": "69fa8086-e936-44ee-9971-adb132e650e4",
   "metadata": {},
   "outputs": [
    {
     "name": "stdout",
     "output_type": "stream",
     "text": [
      "birds can fly\n"
     ]
    }
   ],
   "source": [
    "Mussu.fly()"
   ]
  },
  {
   "cell_type": "markdown",
   "id": "fcb44a81-2ef7-4261-9de1-67874639f7eb",
   "metadata": {},
   "source": [
    "\n",
    "2) Multiple Inheritance:\n",
    "   Multiple inheritance allows a subclass to inherit from more than one superclass. a class can have multiple parent classes. \n",
    "   ex:-"
   ]
  },
  {
   "cell_type": "code",
   "execution_count": 1,
   "id": "62dfc2e2-50bd-49ff-a422-7636dbeaf10b",
   "metadata": {},
   "outputs": [],
   "source": [
    "class human1:\n",
    "    def fight(self):\n",
    "        print(\"human1 is fighter\")\n",
    "        \n",
    "class human2:\n",
    "    \n",
    "    def dance( self):\n",
    "        print(\"human2 is a dancer\")\n",
    "\n",
    "class human3(human1, human2):\n",
    "    \n",
    "    def art(self):\n",
    "        print(\"human3 is an artist\")"
   ]
  },
  {
   "cell_type": "code",
   "execution_count": 2,
   "id": "ade3695b-81a6-4506-8267-51f418c3a36c",
   "metadata": {},
   "outputs": [],
   "source": [
    "person = human3()"
   ]
  },
  {
   "cell_type": "code",
   "execution_count": 4,
   "id": "b12689f7-ad99-48d4-8c1c-6f6ba520a23a",
   "metadata": {},
   "outputs": [
    {
     "name": "stdout",
     "output_type": "stream",
     "text": [
      "human3 is an artist\n"
     ]
    }
   ],
   "source": [
    "person.art()"
   ]
  },
  {
   "cell_type": "code",
   "execution_count": 5,
   "id": "8c511b78-414f-4ecd-8c3b-dbe5c94edf4a",
   "metadata": {},
   "outputs": [
    {
     "name": "stdout",
     "output_type": "stream",
     "text": [
      "human1 is fighter\n"
     ]
    }
   ],
   "source": [
    "person.fight()"
   ]
  },
  {
   "cell_type": "code",
   "execution_count": 6,
   "id": "707cd7d6-4cf6-4db5-9913-5036bb00befd",
   "metadata": {},
   "outputs": [
    {
     "name": "stdout",
     "output_type": "stream",
     "text": [
      "human2 is a dancer\n"
     ]
    }
   ],
   "source": [
    "person.dance()"
   ]
  },
  {
   "cell_type": "markdown",
   "id": "3e1d3507-973f-471c-81bf-cc3466628b3e",
   "metadata": {},
   "source": [
    "3) Multilevel Inheritance:\n",
    "   Multilevel inheritance occurs when a subclass inherits from another class (a superclass) that, in turn, is a subclass of another class."
   ]
  },
  {
   "cell_type": "code",
   "execution_count": 1,
   "id": "706854ed-e9f3-487d-a994-f1f48ebfc2eb",
   "metadata": {},
   "outputs": [],
   "source": [
    "class vehicle:\n",
    "    def __init__(self, name, colour):\n",
    "        self.name = name\n",
    "        self.colour = colour\n",
    "    def drive(self):\n",
    "        print(f\"{self.name}  can be drive\")\n",
    "    def sale(self):\n",
    "        print(f\"{self.name} vehicle can be sale\")\n",
    "        \n",
    "class scooty(vehicle):\n",
    "    def milage(self):\n",
    "        print( f\" {self.name} gives a milage of 45km\")\n",
    "              \n",
    "class bus(scooty):\n",
    "      def seatingcapacity(self):\n",
    "              print(f\"{self.name}has a ceating capacity of 4\")\n",
    "              \n"
   ]
  },
  {
   "cell_type": "code",
   "execution_count": 4,
   "id": "c7763782-be21-4739-b660-486aa509d4c4",
   "metadata": {},
   "outputs": [
    {
     "name": "stdout",
     "output_type": "stream",
     "text": [
      " jupiter gives a milage of 45km\n",
      "jupiter  can be drive\n",
      "jupiter vehicle can be sale\n"
     ]
    }
   ],
   "source": [
    "Scooty = scooty(\"jupiter\", \"blue\")\n",
    "Scooty.milage()\n",
    "Scooty.drive()\n",
    "Scooty.sale()"
   ]
  },
  {
   "cell_type": "code",
   "execution_count": 5,
   "id": "b8ba65b6-0740-49ef-826e-24bd3ebb2b41",
   "metadata": {},
   "outputs": [
    {
     "name": "stdout",
     "output_type": "stream",
     "text": [
      "KSRTChas a ceating capacity of 4\n",
      "KSRTC  can be drive\n",
      "KSRTC vehicle can be sale\n",
      " KSRTC gives a milage of 45km\n"
     ]
    }
   ],
   "source": [
    "Bus = bus(\"KSRTC\", 'red')\n",
    "Bus.seatingcapacity()\n",
    "Bus.drive()\n",
    "Bus.sale()\n",
    "Bus.milage()"
   ]
  },
  {
   "cell_type": "markdown",
   "id": "4bd56842-96dd-463e-9a53-abe5f7acc2c6",
   "metadata": {},
   "source": [
    "                       -------------------------------------------------------------------"
   ]
  }
 ],
 "metadata": {
  "kernelspec": {
   "display_name": "Python 3 (ipykernel)",
   "language": "python",
   "name": "python3"
  },
  "language_info": {
   "codemirror_mode": {
    "name": "ipython",
    "version": 3
   },
   "file_extension": ".py",
   "mimetype": "text/x-python",
   "name": "python",
   "nbconvert_exporter": "python",
   "pygments_lexer": "ipython3",
   "version": "3.10.8"
  }
 },
 "nbformat": 4,
 "nbformat_minor": 5
}
